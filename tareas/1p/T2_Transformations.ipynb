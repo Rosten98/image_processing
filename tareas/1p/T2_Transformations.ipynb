{
 "cells": [
  {
   "cell_type": "markdown",
   "metadata": {},
   "source": [
    "## Gerardo Rodríguez Delgado 17110263 7M2\n",
    "## Procesamiento de imágenes\n",
    "### Tarea 2: Tranformaciones y cuaternios"
   ]
  },
  {
   "cell_type": "code",
   "execution_count": 25,
   "metadata": {},
   "outputs": [],
   "source": [
    "import numpy as np\n",
    "from tarea1 import *\n",
    "\n",
    "def grades_to_radians(deg):\n",
    "    rad = (deg*np.pi)/180\n",
    "    return rad"
   ]
  },
  {
   "cell_type": "markdown",
   "metadata": {},
   "source": [
    "#### Variables"
   ]
  },
  {
   "cell_type": "code",
   "execution_count": 26,
   "metadata": {},
   "outputs": [],
   "source": [
    "point = np.array([5, 5])\n",
    "translated_point = np.array([1, 1])\n",
    "deg_to_rotate = 45\n",
    "scale_factor = 2"
   ]
  },
  {
   "cell_type": "markdown",
   "metadata": {},
   "source": [
    "### Translation"
   ]
  },
  {
   "cell_type": "code",
   "execution_count": 27,
   "metadata": {},
   "outputs": [],
   "source": [
    "def translate(point, new_point):\n",
    "    assert (len(point) == 2), ' Original point is not a 2D point '\n",
    "    assert (len(new_point) == 2), ' Translated point is not a 2D point '\n",
    "\n",
    "    point = np.array([[1, 0, point[0]],[0, 1, point[1]]])\n",
    "    new_point = euclidean2D_to_homogeneus(new_point)\n",
    "    return point@new_point"
   ]
  },
  {
   "cell_type": "code",
   "execution_count": 28,
   "metadata": {},
   "outputs": [
    {
     "data": {
      "text/plain": [
       "array([6, 6])"
      ]
     },
     "execution_count": 28,
     "metadata": {},
     "output_type": "execute_result"
    }
   ],
   "source": [
    "translate(point, translated_point)"
   ]
  },
  {
   "cell_type": "markdown",
   "metadata": {},
   "source": [
    "### Rotation"
   ]
  },
  {
   "cell_type": "code",
   "execution_count": 29,
   "metadata": {},
   "outputs": [],
   "source": [
    "def rotate(point, deg):\n",
    "    assert (len(point) == 2), ' Point is not a 2D point '\n",
    "    angle = grades_to_radians(deg)\n",
    "    rotation_matrix = np.array([[np.cos(angle),-np.sin(angle)],[np.sin(angle),np.cos(angle)]])\n",
    "    return point@rotation_matrix"
   ]
  },
  {
   "cell_type": "code",
   "execution_count": 30,
   "metadata": {},
   "outputs": [
    {
     "data": {
      "text/plain": [
       "array([7.07106781e+00, 4.44089210e-16])"
      ]
     },
     "execution_count": 30,
     "metadata": {},
     "output_type": "execute_result"
    }
   ],
   "source": [
    "rotate(point, deg_to_rotate)\n"
   ]
  },
  {
   "cell_type": "markdown",
   "metadata": {},
   "source": [
    "### Rotation & Translation"
   ]
  },
  {
   "cell_type": "code",
   "execution_count": 31,
   "metadata": {},
   "outputs": [],
   "source": [
    "def rotate_translate(point, new_point, deg):\n",
    "    assert (len(point) == 2), ' Original Point is not a 2D point '\n",
    "    assert (len(new_point) == 2), ' Translated point is not a 2D point '\n",
    "    angle = grades_to_radians(deg)\n",
    "    RT = np.array([[np.cos(angle),-np.sin(angle),new_point[0]],[np.sin(angle),np.cos(angle),new_point[1]]])\n",
    "    point = euclidean2D_to_homogeneus(point)\n",
    "    return RT@point"
   ]
  },
  {
   "cell_type": "code",
   "execution_count": 32,
   "metadata": {},
   "outputs": [
    {
     "data": {
      "text/plain": [
       "array([1.        , 8.07106781])"
      ]
     },
     "execution_count": 32,
     "metadata": {},
     "output_type": "execute_result"
    }
   ],
   "source": [
    "rotate_translate(point, translated_point, deg_to_rotate)"
   ]
  },
  {
   "cell_type": "markdown",
   "metadata": {},
   "source": [
    "### Rotation, translation & scalation"
   ]
  },
  {
   "cell_type": "code",
   "execution_count": 33,
   "metadata": {},
   "outputs": [],
   "source": [
    "def rot_tra_scale(point, new_point, deg, scale_factor):\n",
    "    assert (len(point) == 2), ' Original Point is not a 2D point '\n",
    "    assert (len(new_point) == 2), ' Translated point is not a 2D point '\n",
    "    angle = grades_to_radians(deg)\n",
    "    sRT = np.array([[np.cos(angle),-np.sin(angle),new_point[0]],[np.sin(angle),np.cos(angle),new_point[1]]])\n",
    "    sRT *= scale_factor\n",
    "    point = euclidean2D_to_homogeneus(point)\n",
    "    return sRT@point"
   ]
  },
  {
   "cell_type": "code",
   "execution_count": 34,
   "metadata": {},
   "outputs": [
    {
     "data": {
      "text/plain": [
       "array([ 2.        , 16.14213562])"
      ]
     },
     "execution_count": 34,
     "metadata": {},
     "output_type": "execute_result"
    }
   ],
   "source": [
    "rot_tra_scale(point, translated_point, deg_to_rotate, scale_factor)"
   ]
  },
  {
   "cell_type": "markdown",
   "metadata": {},
   "source": [
    "### Quaternions"
   ]
  },
  {
   "cell_type": "code",
   "execution_count": 61,
   "metadata": {},
   "outputs": [],
   "source": [
    "def q_multiply(q1,q2):\n",
    "    (w1,x1,y1,z1) = q1\n",
    "    (w2,x2,y2,z2) = q2\n",
    "    w = (w1*w2 - x1*x2 - y1*y2 - z1*z2)\n",
    "    x = (w1*x2 + x1*w2 + y1*z2 - z1*y2)\n",
    "    y = (w1*y2 - x1*z2 + y1*w2 + z1*x2)\n",
    "    z = (w1*z2 + x1*y2 - y1*x2 + z1*w2)\n",
    "    qx = [w,x,y,z]\n",
    "    return qx\n",
    "\n",
    "\n",
    "def q_asterisk(q):\n",
    "    q = np.array([q[0],(q[1]*-1),(q[2]*-1),(q[3]*-1)])\n",
    "    return q\n",
    "\n",
    "\n",
    "def q_abs(q):\n",
    "    q = q[0]**2 + q[1]**2 + q[2]**2 + q[3]**2\n",
    "    return q\n",
    "\n",
    "\n",
    "def q_inverse(q_abs, q_asterisk):\n",
    "    (w, x, y, z) = q_asterisk\n",
    "    q  = np.array([w/q_abs, x/q_abs, y/q_abs, z/q_abs])\n",
    "    return q\n",
    "    \n",
    "    \n",
    "def rotation_vector(qr):\n",
    "    rad = grades_to_radians(qr[0])\n",
    "    qr = np.array([np.cos(rad/2),qr[1],qr[2],qr[3]])\n",
    "    return qr\n",
    "\n",
    "\n",
    "def quaternion(axis, rad):\n",
    "    q = np.array([np.cos(rad/2), axis[0], axis[1], axis[2]])\n",
    "    return q\n",
    "\n",
    "\n",
    "def rotate3D(point, axis, deg):\n",
    "    rad = grades_to_radians(deg)\n",
    "    q = quaternion(axis, rad)\n",
    "    q_ast = q_asterisk(q)\n",
    "    q_ab = q_abs(q)\n",
    "    q_inv = q_inverse(q_ab, q_ast)\n",
    "    point = np.append(0, point)\n",
    "    qp = q_multiply(q, point)\n",
    "    qpq_ = q_multiply(qp, q_inv)\n",
    "    del qpq_[0]\n",
    "    return qpq_"
   ]
  },
  {
   "cell_type": "code",
   "execution_count": 62,
   "metadata": {},
   "outputs": [
    {
     "name": "stdout",
     "output_type": "stream",
     "text": [
      "The rotated quaternion is:  [8.333333333333332, 8.333333333333332, 3.3333333333333335]\n"
     ]
    }
   ],
   "source": [
    "# Quaternions\n",
    "point = np.array([5, 5, 10])\n",
    "axis = np.array([1, 1, 1])\n",
    "deg = 180\n",
    "print('The rotated quaternion is: ', rotate3D(point, axis, deg))"
   ]
  },
  {
   "cell_type": "code",
   "execution_count": null,
   "metadata": {},
   "outputs": [],
   "source": []
  }
 ],
 "metadata": {
  "kernelspec": {
   "display_name": "Python 3",
   "language": "python",
   "name": "python3"
  },
  "language_info": {
   "codemirror_mode": {
    "name": "ipython",
    "version": 3
   },
   "file_extension": ".py",
   "mimetype": "text/x-python",
   "name": "python",
   "nbconvert_exporter": "python",
   "pygments_lexer": "ipython3",
   "version": "3.7.5"
  }
 },
 "nbformat": 4,
 "nbformat_minor": 4
}
