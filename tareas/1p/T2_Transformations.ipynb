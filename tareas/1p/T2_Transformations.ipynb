{
 "cells": [
  {
   "cell_type": "markdown",
   "metadata": {},
   "source": [
    "## Gerardo Rodríguez Delgado 17110263 7M2\n",
    "### Tarea 2: Tranformations & Quaternions"
   ]
  },
  {
   "cell_type": "code",
   "execution_count": 12,
   "metadata": {},
   "outputs": [],
   "source": [
    "import numpy as np\n",
    "from tarea1 import *\n",
    "\n",
    "def grades_to_radians(deg):\n",
    "    rad = (deg*np.pi)/180\n",
    "    return rad"
   ]
  },
  {
   "cell_type": "markdown",
   "metadata": {},
   "source": [
    "#### Variables"
   ]
  },
  {
   "cell_type": "code",
   "execution_count": 13,
   "metadata": {},
   "outputs": [],
   "source": [
    "point = np.array([5, 5])\n",
    "translated_point = np.array([1, 1])\n",
    "deg_to_rotate = 90\n",
    "scale_factor = 2"
   ]
  },
  {
   "cell_type": "markdown",
   "metadata": {},
   "source": [
    "### Translation"
   ]
  },
  {
   "cell_type": "code",
   "execution_count": 14,
   "metadata": {},
   "outputs": [],
   "source": [
    "def translate(point, new_point):\n",
    "    assert (len(point) == 2), ' Original point is not a 2D point '\n",
    "    assert (len(new_point) == 2), ' Translated point is not a 2D point '\n",
    "\n",
    "    point = np.array([[1, 0, point[0]],[0, 1, point[1]]])\n",
    "    new_point = euclidean2D_to_homogeneus(new_point)\n",
    "    return point@new_point"
   ]
  },
  {
   "cell_type": "code",
   "execution_count": 15,
   "metadata": {},
   "outputs": [
    {
     "data": {
      "text/plain": [
       "array([6, 6])"
      ]
     },
     "execution_count": 15,
     "metadata": {},
     "output_type": "execute_result"
    }
   ],
   "source": [
    "translate(point, translated_point)"
   ]
  },
  {
   "cell_type": "markdown",
   "metadata": {},
   "source": [
    "### Rotation"
   ]
  },
  {
   "cell_type": "code",
   "execution_count": 16,
   "metadata": {},
   "outputs": [],
   "source": [
    "def rotate(point, deg):\n",
    "    assert (len(point) == 2), ' Point is not a 2D point '\n",
    "    angle = grades_to_radians(deg)\n",
    "    rotation_matrix = np.array([[np.cos(angle),-np.sin(angle)],[np.sin(angle),np.cos(angle)]])\n",
    "    return point@rotation_matrix"
   ]
  },
  {
   "cell_type": "code",
   "execution_count": 17,
   "metadata": {},
   "outputs": [
    {
     "data": {
      "text/plain": [
       "array([ 5., -5.])"
      ]
     },
     "execution_count": 17,
     "metadata": {},
     "output_type": "execute_result"
    }
   ],
   "source": [
    "rotate(point, deg_to_rotate)\n"
   ]
  },
  {
   "cell_type": "markdown",
   "metadata": {},
   "source": [
    "### Rotation & Translation"
   ]
  },
  {
   "cell_type": "code",
   "execution_count": 18,
   "metadata": {},
   "outputs": [],
   "source": [
    "def rotate_translate(point, new_point, deg):\n",
    "    assert (len(point) == 2), ' Original Point is not a 2D point '\n",
    "    assert (len(new_point) == 2), ' Translated point is not a 2D point '\n",
    "    angle = grades_to_radians(deg)\n",
    "    RT = np.array([[np.cos(angle),-np.sin(angle),new_point[0]],[np.sin(angle),np.cos(angle),new_point[1]]])\n",
    "    point = euclidean2D_to_homogeneus(point)\n",
    "    return RT@point"
   ]
  },
  {
   "cell_type": "code",
   "execution_count": 19,
   "metadata": {},
   "outputs": [
    {
     "data": {
      "text/plain": [
       "array([-4.,  6.])"
      ]
     },
     "execution_count": 19,
     "metadata": {},
     "output_type": "execute_result"
    }
   ],
   "source": [
    "rotate_translate(point, translated_point, deg_to_rotate)"
   ]
  },
  {
   "cell_type": "markdown",
   "metadata": {},
   "source": [
    "### Rotation, translation & scalation"
   ]
  },
  {
   "cell_type": "code",
   "execution_count": 20,
   "metadata": {},
   "outputs": [],
   "source": [
    "def rot_tra_scale(point, new_point, deg, scale_factor):\n",
    "    assert (len(point) == 2), ' Original Point is not a 2D point '\n",
    "    assert (len(new_point) == 2), ' Translated point is not a 2D point '\n",
    "    angle = grades_to_radians(deg)\n",
    "    sRT = np.array([[np.cos(angle),-np.sin(angle),new_point[0]],[np.sin(angle),np.cos(angle),new_point[1]]])\n",
    "    sRT *= scale_factor\n",
    "    point = euclidean2D_to_homogeneus(point)\n",
    "    return sRT@point"
   ]
  },
  {
   "cell_type": "code",
   "execution_count": 21,
   "metadata": {},
   "outputs": [
    {
     "data": {
      "text/plain": [
       "array([-8., 12.])"
      ]
     },
     "execution_count": 21,
     "metadata": {},
     "output_type": "execute_result"
    }
   ],
   "source": [
    "rot_tra_scale(point, translated_point, deg_to_rotate, scale_factor)"
   ]
  }
 ],
 "metadata": {
  "kernelspec": {
   "display_name": "Python 3",
   "language": "python",
   "name": "python3"
  },
  "language_info": {
   "codemirror_mode": {
    "name": "ipython",
    "version": 3
   },
   "file_extension": ".py",
   "mimetype": "text/x-python",
   "name": "python",
   "nbconvert_exporter": "python",
   "pygments_lexer": "ipython3",
   "version": "3.7.5"
  }
 },
 "nbformat": 4,
 "nbformat_minor": 4
}
