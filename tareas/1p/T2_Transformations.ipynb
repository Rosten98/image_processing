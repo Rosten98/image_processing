{
 "cells": [
  {
   "cell_type": "markdown",
   "metadata": {},
   "source": [
    "## Gerardo Rodríguez Delgado 17110263 7M2\n",
    "## Procesamiento de imágenes\n",
    "### Tarea 2: Tranformaciones y cuaternios"
   ]
  },
  {
   "cell_type": "code",
   "execution_count": 3,
   "metadata": {},
   "outputs": [],
   "source": [
    "import numpy as np\n",
    "from tarea1 import *\n",
    "\n",
    "def grades_to_radians(deg):\n",
    "    rad = (deg*np.pi)/180\n",
    "    return rad"
   ]
  },
  {
   "cell_type": "markdown",
   "metadata": {},
   "source": [
    "#### Variables"
   ]
  },
  {
   "cell_type": "code",
   "execution_count": 4,
   "metadata": {},
   "outputs": [],
   "source": [
    "point = np.array([5, 5])\n",
    "translated_point = np.array([1, 1])\n",
    "deg_to_rotate = 90\n",
    "scale_factor = 2"
   ]
  },
  {
   "cell_type": "markdown",
   "metadata": {},
   "source": [
    "### Translation"
   ]
  },
  {
   "cell_type": "code",
   "execution_count": 5,
   "metadata": {},
   "outputs": [],
   "source": [
    "def translate(point, new_point):\n",
    "    assert (len(point) == 2), ' Original point is not a 2D point '\n",
    "    assert (len(new_point) == 2), ' Translated point is not a 2D point '\n",
    "\n",
    "    point = np.array([[1, 0, point[0]],[0, 1, point[1]]])\n",
    "    new_point = euclidean2D_to_homogeneus(new_point)\n",
    "    return point@new_point"
   ]
  },
  {
   "cell_type": "code",
   "execution_count": 6,
   "metadata": {},
   "outputs": [
    {
     "data": {
      "text/plain": [
       "array([6, 6])"
      ]
     },
     "execution_count": 6,
     "metadata": {},
     "output_type": "execute_result"
    }
   ],
   "source": [
    "translate(point, translated_point)"
   ]
  },
  {
   "cell_type": "markdown",
   "metadata": {},
   "source": [
    "### Rotation"
   ]
  },
  {
   "cell_type": "code",
   "execution_count": 7,
   "metadata": {},
   "outputs": [],
   "source": [
    "def rotate(point, deg):\n",
    "    assert (len(point) == 2), ' Point is not a 2D point '\n",
    "    angle = grades_to_radians(deg)\n",
    "    rotation_matrix = np.array([[np.cos(angle),-np.sin(angle)],[np.sin(angle),np.cos(angle)]])\n",
    "    return point@rotation_matrix"
   ]
  },
  {
   "cell_type": "code",
   "execution_count": 8,
   "metadata": {},
   "outputs": [
    {
     "data": {
      "text/plain": [
       "array([ 5., -5.])"
      ]
     },
     "execution_count": 8,
     "metadata": {},
     "output_type": "execute_result"
    }
   ],
   "source": [
    "rotate(point, deg_to_rotate)\n"
   ]
  },
  {
   "cell_type": "markdown",
   "metadata": {},
   "source": [
    "### Rotation & Translation"
   ]
  },
  {
   "cell_type": "code",
   "execution_count": 9,
   "metadata": {},
   "outputs": [],
   "source": [
    "def rotate_translate(point, new_point, deg):\n",
    "    assert (len(point) == 2), ' Original Point is not a 2D point '\n",
    "    assert (len(new_point) == 2), ' Translated point is not a 2D point '\n",
    "    angle = grades_to_radians(deg)\n",
    "    RT = np.array([[np.cos(angle),-np.sin(angle),new_point[0]],[np.sin(angle),np.cos(angle),new_point[1]]])\n",
    "    point = euclidean2D_to_homogeneus(point)\n",
    "    return RT@point"
   ]
  },
  {
   "cell_type": "code",
   "execution_count": 10,
   "metadata": {},
   "outputs": [
    {
     "data": {
      "text/plain": [
       "array([-4.,  6.])"
      ]
     },
     "execution_count": 10,
     "metadata": {},
     "output_type": "execute_result"
    }
   ],
   "source": [
    "rotate_translate(point, translated_point, deg_to_rotate)"
   ]
  },
  {
   "cell_type": "markdown",
   "metadata": {},
   "source": [
    "### Rotation, translation & scalation"
   ]
  },
  {
   "cell_type": "code",
   "execution_count": 11,
   "metadata": {},
   "outputs": [],
   "source": [
    "def rot_tra_scale(point, new_point, deg, scale_factor):\n",
    "    assert (len(point) == 2), ' Original Point is not a 2D point '\n",
    "    assert (len(new_point) == 2), ' Translated point is not a 2D point '\n",
    "    angle = grades_to_radians(deg)\n",
    "    sRT = np.array([[np.cos(angle),-np.sin(angle),new_point[0]],[np.sin(angle),np.cos(angle),new_point[1]]])\n",
    "    sRT *= scale_factor\n",
    "    point = euclidean2D_to_homogeneus(point)\n",
    "    return sRT@point"
   ]
  },
  {
   "cell_type": "code",
   "execution_count": 12,
   "metadata": {},
   "outputs": [
    {
     "data": {
      "text/plain": [
       "array([-8., 12.])"
      ]
     },
     "execution_count": 12,
     "metadata": {},
     "output_type": "execute_result"
    }
   ],
   "source": [
    "rot_tra_scale(point, translated_point, deg_to_rotate, scale_factor)"
   ]
  },
  {
   "cell_type": "markdown",
   "metadata": {},
   "source": [
    "### Quaternions"
   ]
  },
  {
   "cell_type": "code",
   "execution_count": 16,
   "metadata": {},
   "outputs": [],
   "source": [
    "def q_multiply(q1,q2):\n",
    "    assert(4 == len(q1)), 'The argument taken is not a 3D point'\n",
    "    assert(4 == len(q2)), 'The argument taken is not a 3D point'\n",
    "    (w1,x1,y1,z1) = q1\n",
    "    (w2,x2,y2,z2) = q2\n",
    "    w = (w1*w2 - x1*x2 - y1*y2 - z1*z2)\n",
    "    x = (w1*x2 + x1*w2 + y1*z2 - z1*y2)\n",
    "    y = (w1*y2 - x1*z2 + y1*w2 + z1*x2)\n",
    "    z = (w1*z2 + x1*y2 - y1*x2 + z1*w2)\n",
    "    qx = [w,x,y,z]\n",
    "    return qx\n",
    "\n",
    "\n",
    "def rotation_vector(qr):\n",
    "    assert(4 == len(qr)), 'The argument taken is not a valid point'\n",
    "    assert(qr[0] >= -360 or qr[0] <= 360), 'The degree to convert is not valid'\n",
    "    rad = grades_to_radians(qr[0])\n",
    "    qr = np.array([np.cos(rad/2),qr[1],qr[2],qr[3]])\n",
    "    return qr\n",
    "\n",
    "\n",
    "def quaternions(qx,qr,qp):\n",
    "    assert(4 == len(qp)), 'The argument taken is not a valid point'\n",
    "    assert(4 == len(qx)), 'The argument taken is not a valid point'\n",
    "    q_asterisk = np.array([qx[0],(qx[1]*-1),(qx[2]*-1),(qx[3]*-1)])\n",
    "    q_abs = np.array([qx[0]**2,qx[1]**2,qx[2]**2,qx[3]**2])\n",
    "    qi = q_asterisk / q_abs\n",
    "    qpq_ = qr * qp * qi\n",
    "    return qpq_"
   ]
  },
  {
   "cell_type": "code",
   "execution_count": 17,
   "metadata": {},
   "outputs": [
    {
     "name": "stdout",
     "output_type": "stream",
     "text": [
      "q1 * q2:  [-96, 8, 20, 20]\n",
      "The rotation vector is:  [0.70710678 5.         5.         5.        ]\n",
      "The rotated quaternion is:  [-0.03682848 -3.125      -1.25       -1.25      ]\n"
     ]
    }
   ],
   "source": [
    "# Quaternions\n",
    "q1 = np.array([1,3,5,7])\n",
    "q2 = np.array([2,4,6,8])\n",
    "qx = q_multiply(q1,q2)\n",
    "print('q1 * q2: ',qx)\n",
    "qr = np.array([90,5,5,5])\n",
    "qr = rotation_vector(qr)\n",
    "print('The rotation vector is: ', qr)\n",
    "qp = np.array([5,5,5,5])\n",
    "print('The rotated quaternion is: ', quaternions(qx,qr,qp))"
   ]
  }
 ],
 "metadata": {
  "kernelspec": {
   "display_name": "Python 3",
   "language": "python",
   "name": "python3"
  },
  "language_info": {
   "codemirror_mode": {
    "name": "ipython",
    "version": 3
   },
   "file_extension": ".py",
   "mimetype": "text/x-python",
   "name": "python",
   "nbconvert_exporter": "python",
   "pygments_lexer": "ipython3",
   "version": "3.7.5"
  }
 },
 "nbformat": 4,
 "nbformat_minor": 4
}
