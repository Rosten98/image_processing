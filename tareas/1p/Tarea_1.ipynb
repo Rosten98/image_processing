{
 "cells": [
  {
   "cell_type": "markdown",
   "metadata": {},
   "source": [
    "## Gerardo Rodríguez Delgado 17110263 7M2\n",
    "## Procesamiento de imágenes\n",
    "### Tarea 1: Primitivas"
   ]
  },
  {
   "cell_type": "code",
   "execution_count": 1,
   "metadata": {},
   "outputs": [],
   "source": [
    "import numpy as np\n",
    "\n",
    "\n",
    "def euclidean2D_to_homogeneus(x):\n",
    "    \"\"\"\n",
    "    Convert a 2D point in euclidean space to a projective space\n",
    "    Parameters\n",
    "    ----------\n",
    "    x : np.Array\n",
    "        Point in 2D euclidean space\n",
    "    Returns\n",
    "    -------\n",
    "    x : np.Array\n",
    "        Point in projective space\n",
    "    \"\"\"\n",
    "    assert  (2 == len(x)), 'The argument is not a 2D Point'\n",
    "    x = np.append(x,1)\n",
    "    return x\n",
    "\n",
    "\n",
    "def homogeneus_to_euclidean2D(x):\n",
    "    \"\"\"\n",
    "    Convert a 2D point in projective space to euclidean space\n",
    "    Parameters\n",
    "    ----------\n",
    "    x : np.Array\n",
    "        Point in projective space\n",
    "    Returns\n",
    "    -------\n",
    "    x : np.Array\n",
    "        Point in 2D euclidean space\n",
    "    \"\"\"\n",
    "    assert  (3 == len(x)), 'The argument is not a 3D Point'\n",
    "    assert  (0 != x[2])  , 'x is a point in the infinite, it doesnt '\n",
    "    x=x/x[2]\n",
    "    x = np.delete(x,2)\n",
    "    return x\n",
    "\n",
    "\n",
    "def crossing_point(line_a, line_b):\n",
    "    x = np.cross(line_a, line_b)\n",
    "    return homogeneus_to_euclidean2D(x)\n",
    "\n",
    "\n",
    "def create_line(point_a, point_b):\n",
    "    a = euclidean2D_to_homogeneus(point_a)\n",
    "    b = euclidean2D_to_homogeneus(point_b)\n",
    "    return np.cross(a, b)"
   ]
  },
  {
   "cell_type": "code",
   "execution_count": 6,
   "metadata": {},
   "outputs": [
    {
     "data": {
      "text/plain": [
       "array([-25,   2,  35])"
      ]
     },
     "execution_count": 6,
     "metadata": {},
     "output_type": "execute_result"
    }
   ],
   "source": [
    "create_line( np.array([1,-5]), np.array([3,20]) )"
   ]
  },
  {
   "cell_type": "code",
   "execution_count": 5,
   "metadata": {},
   "outputs": [
    {
     "data": {
      "text/plain": [
       "array([0.89473684, 0.73684211])"
      ]
     },
     "execution_count": 5,
     "metadata": {},
     "output_type": "execute_result"
    }
   ],
   "source": [
    "crossing_point( np.array([-2,-3,4]), np.array([-3,5,-1]) )"
   ]
  }
 ],
 "metadata": {
  "kernelspec": {
   "display_name": "Python 3",
   "language": "python",
   "name": "python3"
  },
  "language_info": {
   "codemirror_mode": {
    "name": "ipython",
    "version": 3
   },
   "file_extension": ".py",
   "mimetype": "text/x-python",
   "name": "python",
   "nbconvert_exporter": "python",
   "pygments_lexer": "ipython3",
   "version": "3.7.5"
  }
 },
 "nbformat": 4,
 "nbformat_minor": 4
}
